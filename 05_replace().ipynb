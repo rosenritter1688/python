{
  "nbformat": 4,
  "nbformat_minor": 0,
  "metadata": {
    "colab": {
      "name": "05 replace().ipynb",
      "provenance": [],
      "authorship_tag": "ABX9TyOXGbBJJeiQtMCZDPsDWxDi",
      "include_colab_link": true
    },
    "kernelspec": {
      "name": "python3",
      "display_name": "Python 3"
    },
    "language_info": {
      "name": "python"
    }
  },
  "cells": [
    {
      "cell_type": "markdown",
      "metadata": {
        "id": "view-in-github",
        "colab_type": "text"
      },
      "source": [
        "<a href=\"https://colab.research.google.com/github/rosenritter1688/python/blob/master/05_replace().ipynb\" target=\"_parent\"><img src=\"https://colab.research.google.com/assets/colab-badge.svg\" alt=\"Open In Colab\"/></a>"
      ]
    },
    {
      "cell_type": "code",
      "execution_count": 3,
      "metadata": {
        "colab": {
          "base_uri": "https://localhost:8080/"
        },
        "id": "2C93tFGfpFez",
        "outputId": "3d38f2bc-bfac-416c-f4aa-36505ae473fc"
      },
      "outputs": [
        {
          "output_type": "stream",
          "name": "stdout",
          "text": [
            "Bruce Ashbee\n",
            "Tom Ashbee\n"
          ]
        }
      ],
      "source": [
        "name = \"Bruce Ashbee\"\n",
        "##replace Bruce into Tom\n",
        "\n",
        "##wrong way of doing\n",
        "name.replace(\"Bruce\", \"Tom\")\n",
        "print(name)\n",
        "\n",
        "##correct way of doing this\n",
        "name = name.replace(\"Bruce\" , \"Tom\")\n",
        "print(name)\n"
      ]
    }
  ]
}