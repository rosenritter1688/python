{
  "nbformat": 4,
  "nbformat_minor": 0,
  "metadata": {
    "colab": {
      "name": "02 back_slash.ipynb",
      "provenance": [],
      "authorship_tag": "ABX9TyNK74rLkM5WtgbigmzvpznC",
      "include_colab_link": true
    },
    "kernelspec": {
      "name": "python3",
      "display_name": "Python 3"
    },
    "language_info": {
      "name": "python"
    }
  },
  "cells": [
    {
      "cell_type": "markdown",
      "metadata": {
        "id": "view-in-github",
        "colab_type": "text"
      },
      "source": [
        "<a href=\"https://colab.research.google.com/github/rosenritter1688/python/blob/master/02_back_slash.ipynb\" target=\"_parent\"><img src=\"https://colab.research.google.com/assets/colab-badge.svg\" alt=\"Open In Colab\"/></a>"
      ]
    },
    {
      "cell_type": "code",
      "execution_count": 4,
      "metadata": {
        "colab": {
          "base_uri": "https://localhost:8080/"
        },
        "id": "7QUHn-JQhKxc",
        "outputId": "6aced4e7-ebcc-4515-b6ab-1e8d05c4ff95"
      },
      "outputs": [
        {
          "output_type": "stream",
          "name": "stdout",
          "text": [
            "hello\\world\n"
          ]
        }
      ],
      "source": [
        "#printout quotation mark\n",
        "print(\"hello\\world\")\n"
      ]
    },
    {
      "cell_type": "code",
      "source": [
        "##\\n\n",
        "#printout in an new line\n",
        "print(\"hello\\nworld\")\n"
      ],
      "metadata": {
        "colab": {
          "base_uri": "https://localhost:8080/"
        },
        "id": "HlcaN19UhwgK",
        "outputId": "3428c073-a7d4-4191-d7bc-69fa6002ce8a"
      },
      "execution_count": 5,
      "outputs": [
        {
          "output_type": "stream",
          "name": "stdout",
          "text": [
            "hello\n",
            "world\n"
          ]
        }
      ]
    },
    {
      "cell_type": "code",
      "source": [
        "##\\\"\n",
        "#printout back slash\n",
        "print(\"hello\\\"world\")\n"
      ],
      "metadata": {
        "colab": {
          "base_uri": "https://localhost:8080/"
        },
        "id": "riF3fNF9h8FD",
        "outputId": "b6a1c717-4a2e-4fe2-e980-45644bff335f"
      },
      "execution_count": 9,
      "outputs": [
        {
          "output_type": "stream",
          "name": "stdout",
          "text": [
            "hello\"world\n"
          ]
        }
      ]
    }
  ]
}