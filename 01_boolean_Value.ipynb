{
  "nbformat": 4,
  "nbformat_minor": 0,
  "metadata": {
    "colab": {
      "name": "01 boolean Value.ipynb",
      "provenance": [],
      "authorship_tag": "ABX9TyNVP9uaLEhns+uNs3PNo/rf",
      "include_colab_link": true
    },
    "kernelspec": {
      "name": "python3",
      "display_name": "Python 3"
    },
    "language_info": {
      "name": "python"
    }
  },
  "cells": [
    {
      "cell_type": "markdown",
      "metadata": {
        "id": "view-in-github",
        "colab_type": "text"
      },
      "source": [
        "<a href=\"https://colab.research.google.com/github/rosenritter1688/python/blob/master/01_boolean_Value.ipynb\" target=\"_parent\"><img src=\"https://colab.research.google.com/assets/colab-badge.svg\" alt=\"Open In Colab\"/></a>"
      ]
    },
    {
      "cell_type": "code",
      "execution_count": null,
      "metadata": {
        "colab": {
          "base_uri": "https://localhost:8080/"
        },
        "id": "zfGUjXQzfCBQ",
        "outputId": "1654947f-914a-4df8-9315-c7e06eb01962"
      },
      "outputs": [
        {
          "output_type": "stream",
          "name": "stdout",
          "text": [
            "False\n"
          ]
        }
      ],
      "source": [
        "is_Male = True\n",
        "print(isMale)"
      ]
    },
    {
      "cell_type": "code",
      "source": [
        "is_Male = False\n",
        "print(isMale)"
      ],
      "metadata": {
        "colab": {
          "base_uri": "https://localhost:8080/"
        },
        "id": "GgUsr4-Xf5ah",
        "outputId": "94687854-da24-41f2-dc17-27b27de2d167"
      },
      "execution_count": null,
      "outputs": [
        {
          "output_type": "stream",
          "name": "stdout",
          "text": [
            "False\n"
          ]
        }
      ]
    },
    {
      "cell_type": "code",
      "source": [
        "if is_Male == False:\n",
        "  print(\"she is female\")\n",
        "else:\n",
        "  print(\"he is male\")"
      ],
      "metadata": {
        "colab": {
          "base_uri": "https://localhost:8080/"
        },
        "id": "OyRHuvMdgRrR",
        "outputId": "ba544e27-b68a-4719-b8bb-9ee627e3fe37"
      },
      "execution_count": null,
      "outputs": [
        {
          "output_type": "stream",
          "name": "stdout",
          "text": [
            "he is a male\n"
          ]
        }
      ]
    }
  ]
}