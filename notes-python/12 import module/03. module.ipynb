{
 "metadata": {
  "language_info": {
   "codemirror_mode": {
    "name": "ipython",
    "version": 3
   },
   "file_extension": ".py",
   "mimetype": "text/x-python",
   "name": "python",
   "nbconvert_exporter": "python",
   "pygments_lexer": "ipython3",
   "version": "3.8.5-final"
  },
  "orig_nbformat": 2,
  "kernelspec": {
   "name": "python3",
   "display_name": "Python 3",
   "language": "python"
  }
 },
 "nbformat": 4,
 "nbformat_minor": 2,
 "cells": [
  {
   "cell_type": "code",
   "execution_count": 1,
   "metadata": {},
   "outputs": [],
   "source": [
    "### 變數不用事先宣告\n",
    "### 不會自動轉換型態\n",
    "### print (\"asd\" + str(a))   #String and Int cannot be added together\n",
    "\n",
    "#import 模組\n",
    "#全域變數\n",
    "#def 函數名稱 （參數列）：\n",
    "#      程式敘述"
   ]
  },
  {
   "cell_type": "code",
   "execution_count": 3,
   "metadata": {},
   "outputs": [
    {
     "output_type": "stream",
     "name": "stdout",
     "text": [
      "r =  0.002422145328719723\nx =  0.002422145328719723\n"
     ]
    }
   ],
   "source": [
    "# 可以import 別的檔案的程式近來\n",
    "import os\n",
    "import sys\n",
    "sys.path.insert(0, os.path.abspath('/home/bruceashbee/Documents/Python/notes-python/'))\n",
    "'''\n",
    "in jupyter notebook\n",
    "必須輸入上面三行才可以呼叫module\n",
    "'''\n",
    "# importModule.py\n",
    "# name = None\n",
    "# def bmi(h,w):\n",
    "#     r = w/h/h\n",
    "#     return r\n",
    "# bmi(170,70)\n",
    "\n",
    "import importModule\n",
    "importModule.name = \"Bruce\"\n",
    "#! 呼叫importModule.py的variable\n",
    "r = importModule.bmi(170,70)\n",
    "    #! 使用importModule.py的def bmi\n",
    "print(\"r = \", r)\n",
    "\n",
    "## 0.002422145328719723\n",
    "\n",
    "x = 70/170/170\n",
    "print(\"x = \",x)"
   ]
  },
  {
   "cell_type": "code",
   "execution_count": null,
   "metadata": {},
   "outputs": [],
   "source": []
  }
 ]
}