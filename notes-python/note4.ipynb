{
 "cells": [
  {
   "cell_type": "markdown",
   "metadata": {},
   "source": [
    "## Python 是一種直譯語言，一個指令一個動作，一列一列轉換成機器語言後，馬上執行程式碼\n",
    "## 效率比編譯語言Ｃ或Ｃ＃語言來的低，但是適合初學者學習"
   ]
  },
  {
   "cell_type": "code",
   "execution_count": 2,
   "metadata": {},
   "outputs": [],
   "source": [
    "### 變數不用事先宣告\n",
    "### 不會自動轉換型態\n",
    "### print (\"asd\" + str(a))   #String and Int cannot be added together\n",
    "\n",
    "#import 模組\n",
    "#全域變數\n",
    "#def 函數名稱 （參數列）：\n",
    "#      程式敘述\n",
    "\n",
    "\n",
    "#如果沒有匯入模組。全域變數和函數\n",
    "#程式結構只會有如下\n",
    "\n",
    "#程式敘述   \n"
   ]
  },
  {
   "cell_type": "markdown",
   "metadata": {},
   "source": [
    "## break 跳出ＬＯＯＰ"
   ]
  },
  {
   "cell_type": "code",
   "execution_count": null,
   "metadata": {},
   "outputs": [],
   "source": [
    "#當python需要使用三角函數，我們需要匯入math模組\n",
    "import math  #匯入math模組\n",
    "math.sin(x)\n",
    "math.cos(x)\n",
    "math.tan(x)\n",
    "\n",
    "# 用; 來多個程式敘述\n",
    "a = 5 ; b = 1, c = 11, x = a + b + c\n",
    "\n",
    "#break 迴圈結束\n",
    "\n",
    "for i in range(1, 11):\n",
    "    print(i)\n",
    "    if i == 5 :\n",
    "        break #迴圈結束\n",
    "print(\"迴圈結束\")\n",
    "###1\n",
    "###2\n",
    "###3\n",
    "###4\n",
    "###5\n",
    "###迴圈結束"
   ]
  },
  {
   "cell_type": "markdown",
   "metadata": {},
   "source": [
    "### :  ;  不用縮排\n",
    "##### 但是不建議"
   ]
  },
  {
   "cell_type": "code",
   "execution_count": 3,
   "metadata": {},
   "outputs": [
    {
     "name": "stdout",
     "output_type": "stream",
     "text": [
      "Python\n",
      "Python\n",
      "10\n",
      "---同下----\n",
      "Python\n",
      "Python\n",
      "10\n"
     ]
    }
   ],
   "source": [
    "\n",
    "if True: print(\"Python\")                              # : 接者寫\n",
    "if True: print(\"Python\"); a = 10 ; print(a)   # ; 接者寫\n",
    "#但是不建議這樣寫\n",
    "print(\"---同下----\")\n",
    "\n",
    "if True:\n",
    "    print(\"Python\")\n",
    "if True:\n",
    "    print(\"Python\")\n",
    "    a = 10\n",
    "    print(a)"
   ]
  },
  {
   "cell_type": "markdown",
   "metadata": {},
   "source": [
    "## 太多程式碼 分行        \\  , () , {}"
   ]
  },
  {
   "cell_type": "code",
   "execution_count": 4,
   "metadata": {},
   "outputs": [
    {
     "name": "stdout",
     "output_type": "stream",
     "text": [
      "15\n"
     ]
    }
   ],
   "source": [
    "sum = 1 + 2 + 3 + 4 + 5\n",
    "print(sum)"
   ]
  },
  {
   "cell_type": "code",
   "execution_count": 7,
   "metadata": {},
   "outputs": [
    {
     "name": "stdout",
     "output_type": "stream",
     "text": [
      "15\n"
     ]
    }
   ],
   "source": [
    "sum = 1 + 2 + \\\n",
    "           3 + 4 + \\\n",
    "           5\n",
    "print(sum)"
   ]
  },
  {
   "cell_type": "code",
   "execution_count": 6,
   "metadata": {},
   "outputs": [
    {
     "ename": "SyntaxError",
     "evalue": "invalid syntax (<ipython-input-6-248122269a3b>, line 5)",
     "output_type": "error",
     "traceback": [
      "\u001b[0;36m  File \u001b[0;32m\"<ipython-input-6-248122269a3b>\"\u001b[0;36m, line \u001b[0;32m5\u001b[0m\n\u001b[0;31m    print(sum)\u001b[0m\n\u001b[0m        ^\u001b[0m\n\u001b[0;31mSyntaxError\u001b[0m\u001b[0;31m:\u001b[0m invalid syntax\n"
     ]
    }
   ],
   "source": [
    "sum = 1 + 2 \\\n",
    "            + 3 \\\n",
    "            + 4 \\\n",
    "            + 5 \\\n",
    "print(sum)\n",
    "###  File \"<ipython-input-6-248122269a3b>\", line 5\n",
    "###    print(sum)\n",
    "###        ^\n",
    "###SyntaxError: invalid syntax"
   ]
  },
  {
   "cell_type": "code",
   "execution_count": 9,
   "metadata": {},
   "outputs": [
    {
     "name": "stdout",
     "output_type": "stream",
     "text": [
      "15\n"
     ]
    }
   ],
   "source": [
    "a = (1 + 2 + 3 + 4 + 5)\n",
    "b = (1 + 2 + 3\n",
    "    + 4 + 5)\n",
    "print(b)\n",
    "###15"
   ]
  },
  {
   "cell_type": "code",
   "execution_count": 11,
   "metadata": {},
   "outputs": [
    {
     "name": "stdout",
     "output_type": "stream",
     "text": [
      "['blue', 'red', 'yellow']\n"
     ]
    }
   ],
   "source": [
    "color = ['blue','red','yellow']\n",
    "color = ['blue'\n",
    "         ,'red'\n",
    "         ,'yellow']\n",
    "print(color)\n",
    "###['blue', 'red', 'yellow']"
   ]
  },
  {
   "cell_type": "code",
   "execution_count": 16,
   "metadata": {},
   "outputs": [
    {
     "name": "stdout",
     "output_type": "stream",
     "text": [
      "False True True True False False\n"
     ]
    }
   ],
   "source": [
    "print(\"green\" == \"glow\", \"green\" != \"glow\",\n",
    "     \"green\" > \"glow\", \"green\" >= \"glow\",\n",
    "     \"grenn\" < \"glow\", \"green\" <= \"glow\")\n",
    "####False True True True False False"
   ]
  },
  {
   "cell_type": "markdown",
   "metadata": {},
   "source": [
    "### True,False,None三個關鍵字為大寫字母開頭外，其他都是小寫"
   ]
  },
  {
   "cell_type": "code",
   "execution_count": 17,
   "metadata": {},
   "outputs": [
    {
     "name": "stdout",
     "output_type": "stream",
     "text": [
      "your grade is 76\n"
     ]
    }
   ],
   "source": [
    "grade = None\n",
    "# 雖然ＰＹＴＨＯＮ不需要變數宣吿，但是為了養成良好的設計習慣，建議事先宣告變數\n",
    "# 所以我們將變數指定成None，作為變數宣告\n",
    "# FYI None can be used as a tool of restting variable\n",
    "grade = 76\n",
    "print(\"your grade is \" + str(grade))\n"
   ]
  },
  {
   "cell_type": "markdown",
   "metadata": {},
   "source": [
    "## 取得變數的物件參考\n",
    "#### 使用id()函數取得變數值的記憶體的物件"
   ]
  },
  {
   "cell_type": "code",
   "execution_count": 35,
   "metadata": {},
   "outputs": [
    {
     "name": "stdout",
     "output_type": "stream",
     "text": [
      "4383510000\n",
      "4383510000\n",
      "grade = 76\n",
      "grade記憶體空間 is  4383510000\n",
      "grade記憶體空間 is 4383510000\n"
     ]
    }
   ],
   "source": [
    "grade_id = id(grade)\n",
    "print(grade_id)\n",
    "print(id(grade))\n",
    "###4383510000\n",
    "###4383510000\n",
    "#儲存變數的記憶體空間\n",
    "grade = 76\n",
    "weight = 70\n",
    "height = 175.5\n",
    "grade_id = id(grade)\n",
    "weight_id = id(weight)\n",
    "height_id = id(height)\n",
    "print(\"grade = \" + str(grade))\n",
    "print((\"grade記憶體空間 is \") , id(grade))\n",
    "print(\"grade記憶體空間 is \" + str(grade_id))\n",
    "\n",
    "##CANNOT\n",
    "\n",
    "#print((\"grade記憶體空間 is \" + str(id(grade))\n",
    "###print((\"grade記憶體空間 is \" + str(id(grade))\n",
    "###                                       ^\n",
    "###SyntaxError: unexpected EOF while parsing"
   ]
  },
  {
   "cell_type": "markdown",
   "metadata": {},
   "source": [
    "## 多重指定敘述Multiple Assignments\n",
    "#### 同時指定多個變數！！！但是一定是相同值"
   ]
  },
  {
   "cell_type": "code",
   "execution_count": 37,
   "metadata": {},
   "outputs": [
    {
     "name": "stdout",
     "output_type": "stream",
     "text": [
      "0\n",
      "0\n",
      "0\n"
     ]
    }
   ],
   "source": [
    "score = score2 = score3 = 0\n",
    "print(score)\n",
    "print(score2)\n",
    "print(score3)"
   ]
  },
  {
   "cell_type": "markdown",
   "metadata": {},
   "source": [
    "## 同步指定敘述\n",
    "#### 一行指定多個變數並且是不同值"
   ]
  },
  {
   "cell_type": "code",
   "execution_count": 38,
   "metadata": {},
   "outputs": [
    {
     "name": "stdout",
     "output_type": "stream",
     "text": [
      "3\n",
      "10\n"
     ]
    }
   ],
   "source": [
    "y,x = 3 , 10\n",
    "print(y)\n",
    "print(x)\n",
    "#### 3\n",
    "#### 10"
   ]
  },
  {
   "cell_type": "markdown",
   "metadata": {},
   "source": [
    "## 取得變數的資料型態\n",
    "### type(變數)\n",
    "## [ ] = List \n",
    "## ( ) = Tuple 字元\n",
    "## {} = Dict 空字典\n",
    "## "
   ]
  },
  {
   "cell_type": "markdown",
   "metadata": {},
   "source": [
    "## input"
   ]
  },
  {
   "cell_type": "code",
   "execution_count": 41,
   "metadata": {},
   "outputs": [
    {
     "name": "stdout",
     "output_type": "stream",
     "text": [
      "輸入西元年>70\n"
     ]
    }
   ],
   "source": [
    "year = float(input('輸入西元年>'))"
   ]
  },
  {
   "cell_type": "markdown",
   "metadata": {},
   "source": [
    "## try , except"
   ]
  },
  {
   "cell_type": "code",
   "execution_count": null,
   "metadata": {},
   "outputs": [],
   "source": [
    "tmp = None\n",
    "year = None\n",
    "\n",
    "def text_prompt(msg):\n",
    "    '''------------------------------------------------\n",
    "    主要目的是相容不同版本的pyton 語言\n",
    "    例如python 2 輸入函數名為raw_input()\n",
    "    python 3 輸入函數名為inpuit()\n",
    "    程式預設傳回raw_input()\n",
    "    如果有錯誤表示用的是python 3\n",
    "    就會傳回input()\n",
    "    try / except 例外處理\n",
    "    --------------------------------------------------'''\n",
    "    \n",
    "    try:                                  \n",
    "        return raw_input(msg)\n",
    "#    except NameError:  \n",
    "    except:                                 #也可以\n",
    "        return input(msg)\n",
    "\n",
    "\n",
    "year = float(text_prompt('輸入西元年>'))  #text_prompt函數\n",
    "#year = float(input('輸入西元年>'))\n",
    "tmp = year % 100\n",
    "if False:\n",
    "  tmp = year % 400\n",
    "  if tmp == 0:\n",
    "    print('是閏年!')\n",
    "  else:\n",
    "    print('不是閏年!')\n",
    "else:\n",
    "  tmp = year % 4\n",
    "  if tmp == 0:\n",
    "    print('是閏年!')\n",
    "  else:\n",
    "    print('不是閏年!')\n"
   ]
  },
  {
   "cell_type": "markdown",
   "metadata": {},
   "source": [
    "### sep = \"\", end = \"\""
   ]
  },
  {
   "cell_type": "code",
   "execution_count": null,
   "metadata": {},
   "outputs": [],
   "source": [
    "a = \"*\"\n",
    "b = \"**\"\n",
    "c = \"***\"\n",
    "print(a,b,c,sep=\"\\n\",end=\"\\n\")\n",
    "print(\"++++++\")\n",
    "*\n",
    "**\n",
    "***\n",
    "++++++"
   ]
  },
  {
   "cell_type": "markdown",
   "metadata": {},
   "source": [
    "## file=sys.stdout\n",
    "###  file參數是輸出到哪裡\n",
    "### sys.stdout 標準輸出 ＝ 電腦螢幕"
   ]
  },
  {
   "cell_type": "code",
   "execution_count": null,
   "metadata": {},
   "outputs": [],
   "source": [
    "print(\"輸出內容\",sep = \" \", end = \"\\n\", file=sys.stdout)\n"
   ]
  },
  {
   "cell_type": "markdown",
   "metadata": {},
   "source": [
    "## / 除法\n",
    "## // 除法 不顯示餘數\n",
    "## % 除法只顯示餘數"
   ]
  },
  {
   "cell_type": "code",
   "execution_count": null,
   "metadata": {},
   "outputs": [],
   "source": []
  }
 ],
 "metadata": {
  "kernelspec": {
   "display_name": "Python 3",
   "language": "python",
   "name": "python3"
  },
  "language_info": {
   "codemirror_mode": {
    "name": "ipython",
    "version": 3
   },
   "file_extension": ".py",
   "mimetype": "text/x-python",
   "name": "python",
   "nbconvert_exporter": "python",
   "pygments_lexer": "ipython3",
   "version": "3.7.4"
  }
 },
 "nbformat": 4,
 "nbformat_minor": 2
}
